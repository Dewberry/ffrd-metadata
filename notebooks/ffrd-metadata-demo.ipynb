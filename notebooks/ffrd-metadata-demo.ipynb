{
 "cells": [
  {
   "cell_type": "code",
   "execution_count": null,
   "id": "97c0f40f",
   "metadata": {
    "tags": [
     "remove_input"
    ]
   },
   "outputs": [],
   "source": [
    "import folium\n",
    "from folium import Marker, Popup\n",
    "import statistics\n",
    "from IPython.display import HTML, Image\n",
    "import json\n",
    "from nb_utils import get_ld_json, stylized_json\n",
    "import rdflib\n",
    "from sparql import FFRDMeta\n",
    "image = Image(filename='./imgs/rascat.png')"
   ]
  },
  {
   "cell_type": "markdown",
   "id": "c1822c68-dd5d-47d1-9feb-5379dea14745",
   "metadata": {},
   "source": [
    "# Kanawha / FFRD Metadata Demo\n",
    "\n",
    "This notebook provides context, overview, and proof of concept for a knowledge graph based system, implemented on the interoperable Resources Description Framework (RDF), to facilitate development of data and products using the [FAIR](https://www.nature.com/articles/sdata201618#:~:text=FAIR%E2%80%94Findable%2C%20Accessible%2C%20Interoperable%2C%20Reusable) principles.\n"
   ]
  },
  {
   "cell_type": "code",
   "execution_count": null,
   "id": "919001bc",
   "metadata": {
    "tags": [
     "remove_input"
    ]
   },
   "outputs": [],
   "source": [
    "display(image)"
   ]
  },
  {
   "cell_type": "markdown",
   "id": "d70931a3-77db-45cb-889f-0c9eec3d3458",
   "metadata": {},
   "source": [
    "## Background\n",
    "\n",
    "### Knowledge Graphs\n",
    "\n",
    "A knowledge graph is a type of knowledge representation that captures information as entities and their relationships to each other. It is a structured data model that is used to represent knowledge in a way that can be easily understood by both humans and machines.\n",
    "\n",
    "In a knowledge graph, information is represented as nodes, which are entities, and edges, which are the relationships between entities. These entities and relationships can be organized into a graph structure, which allows for efficient navigation and querying of the data.\n",
    "\n",
    "Knowledge graphs are commonly used to represent information in a variety of domains, including but not limited to, scientific research, healthcare, business, and social media. They are often used to support intelligent applications, such as question-answering systems, recommendation engines, and chatbots.\n",
    "\n",
    "Some examples of knowledge graphs include Google's Knowledge Graph, which powers many of Google's search results, and the Open Biological and Biomedical Ontology (OBO) Foundry, which represents knowledge in the biological and biomedical domains.\n",
    "\n",
    "### Ontologies / Controlled Vocabularies\n",
    "\n",
    "Controlled vocabularies in knowledge graphs are sets of standardized terms, concepts, or categories used to describe the entities and relationships within the graph. These vocabularies serve as a common language for data integration, retrieval, and analysis across different domains, applications, and communities.\n",
    "\n",
    "Controlled vocabularies are typically created and managed by subject matter experts, organizations, or standardization bodies to ensure consistency, accuracy, and interoperability of the data. They may include taxonomies, thesauri, ontologies, or other types of classification schemes that provide explicit definitions, relations, and constraints on the terms and their usage.\n",
    "\n",
    "In knowledge graphs, controlled vocabularies can be used to model and represent various types of knowledge, such as:\n",
    "\n",
    "Domain-specific concepts and properties (e.g., medical terms, chemical compounds, financial indicators)\n",
    "Relationships and dependencies among entities (e.g., part-of, located-in, influenced-by)\n",
    "Metadata and annotations (e.g., source, author, date, license)\n",
    "By using controlled vocabularies, knowledge graphs can improve the quality, consistency, and usability of the data, as well as enable more powerful querying, inference, and visualization capabilities. They also facilitate data sharing and integration across different systems and domains, which is particularly important in the context of the Semantic Web and linked data.\n",
    "\n",
    "### Vocabularies and Namespaces\n",
    "\n",
    "A namespace is a way of organizing identifiers (such as variable names, function names, or class names) in a program or system to avoid naming conflicts. It provides a unique identifier for each entity to ensure that there are no naming clashes. In other words, a namespace is a container for a set of identifiers that are used to uniquely identify a specific resource or object. In this case, namespaces are customized to specify locations (i.e. in the cloud, on a server) where project/model specific data is located.\n",
    "\n",
    "On the other hand, an ontology is a formal specification of a shared conceptualization that represents a set of concepts and categories in a particular domain. It defines the relationships among the concepts and categories in a domain, along with their properties and attributes. An ontology provides a common vocabulary and a shared understanding of a domain, enabling systems to communicate with each other and reason about the domain.\n",
    "\n",
    "\n",
    "*Descriptions (largely) courtesy of ChatGPT*\n",
    "\n",
    "---"
   ]
  },
  {
   "cell_type": "code",
   "execution_count": null,
   "id": "dc18c231-040f-4ab2-921d-87d58d157a4f",
   "metadata": {
    "tags": [
     "remove_cell"
    ]
   },
   "outputs": [],
   "source": [
    "ffrd = FFRDMeta()\n",
    "g = rdflib.Graph()\n",
    "g.parse(\"../kanawha/kanawha.ttl\", format=\"turtle\")"
   ]
  },
  {
   "cell_type": "markdown",
   "id": "d0ad15f5-9de3-4f36-b03d-bf061042b10e",
   "metadata": {
    "tags": []
   },
   "source": [
    "#### Vocabularies \n",
    "(Used in this notebook)"
   ]
  },
  {
   "cell_type": "code",
   "execution_count": null,
   "id": "0f6177df-fd0b-4357-87c7-de525aabda38",
   "metadata": {
    "tags": [
     "remove_input"
    ]
   },
   "outputs": [],
   "source": [
    "for item in g.namespaces():\n",
    "    if item[0] in ffrd.vocabularies:\n",
    "        ns, ref = item[0], item[1]\n",
    "        gage_link = f'<b><a  href=\"{str(ref)}\" target=\"_blank\">{str(ns)}</a></b> &nbsp;&nbsp;{str(ref)}'\n",
    "        display( HTML(gage_link))"
   ]
  },
  {
   "cell_type": "markdown",
   "id": "e26c9479-5cb1-4e24-9d13-88b551605520",
   "metadata": {},
   "source": [
    "#### Namespaces \n",
    "(Used in this notebook)"
   ]
  },
  {
   "cell_type": "code",
   "execution_count": null,
   "id": "00b35797-8af7-400e-843a-119c1dadcdc3",
   "metadata": {
    "tags": [
     "remove_input"
    ]
   },
   "outputs": [],
   "source": [
    "for item in g.namespaces():\n",
    "    if item[0] in ffrd.namespaces:\n",
    "        ns, ref = item[0], item[1]\n",
    "        gage_link = f'<b><a  href=\"{str(ref)}\" target=\"_blank\">{str(ns)}</a></b> &nbsp;&nbsp;{str(ref)}'\n",
    "        display(HTML(gage_link))"
   ]
  },
  {
   "cell_type": "code",
   "execution_count": null,
   "id": "7ea1e1d9",
   "metadata": {
    "tags": [
     "remove_input"
    ]
   },
   "outputs": [],
   "source": [
    "image = Image(filename='imgs/graphdb.png')"
   ]
  },
  {
   "cell_type": "markdown",
   "id": "2bcfb51a-b9fd-4b0c-9d45-f26244ca31bd",
   "metadata": {},
   "source": [
    "### Linked Data Queries\n",
    "\n",
    "**Through the development of model-centric metadata development, graphs can be traversered from any starting node to any node in the graph.**"
   ]
  },
  {
   "cell_type": "code",
   "execution_count": null,
   "id": "394787d1",
   "metadata": {
    "tags": [
     "remove_input"
    ]
   },
   "outputs": [],
   "source": [
    "display(image)"
   ]
  },
  {
   "cell_type": "markdown",
   "id": "7ab2fb97",
   "metadata": {},
   "source": [
    "\n",
    "**For example, metadata links enable sophisticated (yet simple) queries to connect models with the firm that developed them, calibration events included in model setup and development, simulations in the various plans, etc.** \n",
    "\n",
    "**In this example, the Kanawha Metadata can be queried to identify the modeler of record.**"
   ]
  },
  {
   "cell_type": "code",
   "execution_count": null,
   "id": "cd887a76-cf69-4df5-b12b-17403c87868c",
   "metadata": {
    "tags": []
   },
   "outputs": [],
   "source": [
    "model_creator = \"Mark McBroom\""
   ]
  },
  {
   "cell_type": "markdown",
   "id": "0e2e4275",
   "metadata": {},
   "source": [
    "**Results form a *creator query* pulling data from the Kanawha Metadata files:**"
   ]
  },
  {
   "cell_type": "code",
   "execution_count": null,
   "id": "def1c3f3-7284-44df-94e0-da2080b1dd2f",
   "metadata": {
    "tags": [
     "remove_input"
    ]
   },
   "outputs": [],
   "source": [
    "models = dict()\n",
    "\n",
    "for row in g.query(ffrd.query_creator(model_creator)):\n",
    "    title = row[0]\n",
    "    description = row[1]\n",
    "    ras_model_path = row[2]\n",
    "    models[title] = {\"description\":description, \"model_location\":ras_model_path}\n",
    "    \n",
    "display(stylized_json(models))"
   ]
  },
  {
   "cell_type": "markdown",
   "id": "18c328be",
   "metadata": {},
   "source": [
    "**The query results show three models in the inventory developed by the creator used in the query. Results include description, and path to the model. As data is shipped to the cloud or incorporated in Model Library, these links will take users directly to the model.**\n",
    "\n",
    "**This search could be expanded to look for models developed by a specific firm or PTS partner:**"
   ]
  },
  {
   "cell_type": "code",
   "execution_count": null,
   "id": "e2572341-a3ae-43e3-9ff9-0c07030271a1",
   "metadata": {
    "tags": []
   },
   "outputs": [],
   "source": [
    "org_name = \"Freese and Nichols\""
   ]
  },
  {
   "cell_type": "code",
   "execution_count": null,
   "id": "2521f913-d77d-4203-808e-21bac4663575",
   "metadata": {
    "tags": [
     "remove_input"
    ]
   },
   "outputs": [],
   "source": [
    "projects = dict()\n",
    "\n",
    "for row in g.query(ffrd.query_org(org_name)):\n",
    "    title = row[0]\n",
    "    description = row[1]\n",
    "    ras_model_path = row[2]\n",
    "    org_name = row[3]\n",
    "    jv_name = row[4]\n",
    "    \n",
    "    projects[title] = { \"PTS\":jv_name,\"firm\":org_name, \"description\":description, \"model_location\":ras_model_path}\n",
    "        \n",
    "display(stylized_json(projects))"
   ]
  },
  {
   "cell_type": "markdown",
   "id": "7c4ca82e-6d14-42f7-9d59-1b3a4a5e0308",
   "metadata": {},
   "source": [
    "### Model Geometry Queries\n",
    "\n",
    "**The *rascat* vocabulary incorporates qualitative and quantitative data. The following example searches the inventory of ras models developed for the Kanawha study to identify geometries with large meshes (i.e. high cell counts) and return the path to the file, the cell count, and descriptions of the model.**"
   ]
  },
  {
   "cell_type": "code",
   "execution_count": null,
   "id": "9e4df143-41ab-46c8-b44d-a0a10e85a407",
   "metadata": {
    "tags": []
   },
   "outputs": [],
   "source": [
    "cell_count = 400000"
   ]
  },
  {
   "cell_type": "code",
   "execution_count": null,
   "id": "e780dd70-ae7f-4eb1-bf1c-5ede15c4adb0",
   "metadata": {
    "tags": [
     "remove_input"
    ]
   },
   "outputs": [],
   "source": [
    "large_meshes = dict()\n",
    "\n",
    "for row in g.query(ffrd.query_cell_count(cell_count)):\n",
    "    title = row[0]\n",
    "    description = row[1]\n",
    "    model = row[2]\n",
    "    geometry = row[3]\n",
    "    cell_count = row[4]\n",
    "    large_meshes[title] = {\"geometry\":geometry, \"description\":description, \"cell_count\":int(cell_count)}\n",
    "\n",
    "display(stylized_json(large_meshes))"
   ]
  },
  {
   "cell_type": "markdown",
   "id": "c9729303",
   "metadata": {},
   "source": [
    "**Note: Metadata checks may also enabled prior to submission or scaling. In the above list of models returned from the query, several models do not include descriptions. Metadata checks put in place prior to scaling (i.e. running 1,000's of probabilistic simulations in the cloud) would identify elements needing completion/additional information, ensuring consistent, quality deliverables.**"
   ]
  },
  {
   "cell_type": "markdown",
   "id": "4ae9851b-d7a8-4400-a70e-f61b449a6854",
   "metadata": {},
   "source": [
    "### Foundational Data Queries\n",
    "\n",
    "**There are numerous scenarios in which it may be required to evaluate the foundational data used in the development of models. Examples include topography, presence or absence of hydraulic structures, impervious surface cover to name a few.**\n",
    "\n",
    "**This example performs a search on the landuse/landcover sources used to develop friction parameters (surface roughness) in models included in the inventory.**\n"
   ]
  },
  {
   "cell_type": "code",
   "execution_count": null,
   "id": "1d289e20-ffc5-4d5a-8f26-8e49e9f604b8",
   "metadata": {
    "tags": [
     "remove_input"
    ]
   },
   "outputs": [],
   "source": [
    "lulc_datasets = {}\n",
    "\n",
    "for row in g.query(ffrd.query_lulc()):\n",
    "    lulc_desc = row[0]\n",
    "    titles = str(row[1]).split(\",\")\n",
    "    lulc_datasets[lulc_desc] = [t.strip() for t in titles]\n",
    "    \n",
    "display(stylized_json(lulc_datasets))"
   ]
  },
  {
   "cell_type": "markdown",
   "id": "80be5985",
   "metadata": {},
   "source": [
    "**Results show that three land cover datasets were shared by multiple models. The metadata could be further queried to identify scripts or processes used to develop the datasets where inclduded.**"
   ]
  },
  {
   "cell_type": "markdown",
   "id": "de9c9092-21c3-45d0-86b9-bbb9fbbdb9c6",
   "metadata": {},
   "source": [
    "###  USGS Gage Queries\n",
    "\n",
    "**Another application of metadata queries would be the identification of USGS gages included in models. This search identifies the models which include simulations or calibration events at a gage location.**"
   ]
  },
  {
   "cell_type": "code",
   "execution_count": null,
   "id": "b577b2ad-043e-4b5f-ab11-d25d654bf830",
   "metadata": {
    "tags": []
   },
   "outputs": [],
   "source": [
    "gage = \"03187500\""
   ]
  },
  {
   "cell_type": "code",
   "execution_count": null,
   "id": "e8422663-b7f1-40f2-ab51-11c1eb8a80f1",
   "metadata": {
    "tags": [
     "remove_input"
    ]
   },
   "outputs": [],
   "source": [
    "for row in g.query(ffrd.query_gage(gage)):\n",
    "    model = row[0]\n",
    "    print(model)"
   ]
  },
  {
   "cell_type": "markdown",
   "id": "1fc944a0",
   "metadata": {},
   "source": [
    "**Due to the bi-drectional nature of the data in the Kanawha metadata, the inverse approach can be taken: search models to identify the presence of gages in plans.**\n"
   ]
  },
  {
   "cell_type": "code",
   "execution_count": null,
   "id": "cc4e5192-000e-4faa-819c-f523b2e95b7e",
   "metadata": {
    "tags": []
   },
   "outputs": [],
   "source": [
    "model = \"New-LittleRiver.prj\""
   ]
  },
  {
   "cell_type": "code",
   "execution_count": null,
   "id": "7099c119",
   "metadata": {
    "tags": [
     "remove_input"
    ]
   },
   "outputs": [],
   "source": [
    "gage_urls = dict()\n",
    "\n",
    "for row in g.query(ffrd.query_gages(model)):\n",
    "    model = row[0]\n",
    "    gage = row[1]\n",
    "    gageID = row[2]\n",
    "    gage_link = f'<a href=\"{str(gage)}\">USGS {str(gageID)}</a>'\n",
    "    gage_urls[gage_link] = str(model)\n",
    "\n",
    "display(stylized_json(gage_urls))"
   ]
  },
  {
   "cell_type": "markdown",
   "id": "1348d5fc-7643-449e-975d-69183bbd8d47",
   "metadata": {},
   "source": [
    "### Calibration Event Queries\n",
    "\n",
    "**Models calibrated prior to probabilistic simulations will include additional information useful for QAQC prior to scaling. In this example, a metadata query searches the calibration events in a model and returns the results of the Nash-Sutcliffe Efficiency metric for the top three poorest performing locations.**"
   ]
  },
  {
   "cell_type": "code",
   "execution_count": null,
   "id": "541aa967-fda1-4187-ba6e-507878bd10ed",
   "metadata": {
    "tags": [
     "remove_input"
    ]
   },
   "outputs": [],
   "source": [
    "calibration_events = dict()\n",
    "\n",
    "for row in g.query(ffrd.query_calibration(limit=3)):\n",
    "    title = row[0]\n",
    "    description = row[1]\n",
    "    model = row[2]\n",
    "    flow = row[3]\n",
    "    gage = row[4]\n",
    "    nse = row[5]\n",
    "    flow_title = row[6]\n",
    "    gage_title = row[7]\n",
    "    hydro_type = row[8]\n",
    "    plan = row[9]\n",
    "    plan_title = row[10]\n",
    "    if calibration_events.get(str(title)) is None:\n",
    "        calibration_events[str(title)] = dict()\n",
    "\n",
    "    calibration_events[str(title)][gage_title] = {\"plan\":plan_title, \"Nash-Sutcliffe Efficiency score\": nse,\n",
    "                                                  \"observation\":hydro_type,\"gage_link\":gage}\n",
    "    \n",
    "display(stylized_json(calibration_events))"
   ]
  },
  {
   "cell_type": "code",
   "execution_count": null,
   "id": "0ca3d209-e87d-4b2f-abc8-7da8f7e5cf94",
   "metadata": {
    "tags": [
     "remove_cell"
    ]
   },
   "outputs": [],
   "source": [
    "model = \"New-LittleRiver.prj\"\n",
    "gage_urls = []\n",
    "\n",
    "for row in g.query(ffrd.query_gages(model)):\n",
    "    model = row[0]\n",
    "    gage = row[1]\n",
    "    gage_urls.append(gage)\n",
    "    gageID = row[2]\n",
    "#     print(model, gage, gageID)\n",
    "\n",
    "gage_ld_jsons = []\n",
    "for gage_url in gage_urls:\n",
    "    gage_ld_jsons.append(get_ld_json(gage_url))"
   ]
  },
  {
   "cell_type": "markdown",
   "id": "5b4e1796",
   "metadata": {},
   "source": [
    "### Geospatial Queries\n",
    "\n",
    "**Geospatial search and discovery is enabled through linked data provided by the *rascat* ontology using the same approach as the USGS for gage locations. A linked data search of the USGS gages identified in the Kanawha metadata can be used to fetch information from the USGS gage website directly, as shown in the map below.**"
   ]
  },
  {
   "cell_type": "code",
   "execution_count": null,
   "id": "0e7599a5",
   "metadata": {
    "tags": [
     "remove_input"
    ]
   },
   "outputs": [],
   "source": [
    "center_lat = statistics.mean([float(i['geo']['latitude']) for i in gage_ld_jsons])\n",
    "center_lng = statistics.mean([float(i['geo']['longitude']) for i in gage_ld_jsons])\n",
    "\n",
    "center = (center_lat, center_lng)\n",
    "\n",
    "m = folium.Map(location=center, zoom_start=9)\n",
    "\n",
    "for j in gage_ld_jsons:\n",
    "    location = [float(j['geo']['latitude']), float(j['geo']['longitude'])]\n",
    "    name = j['name']\n",
    "    description = j['description']\n",
    "    gage_url = j['@id']\n",
    "    popup_content = f\"\"\"<h3>{name}</h3><p>Calibration Gage <b>{model}</b></p><p>{description}</p><p><a target=\"_blank\" rel=\"noopener noreferrer\" href=\"{gage_url}\">{gage_url}</a></p>\"\"\"\n",
    "    popup = Popup(popup_content, max_width=2650)\n",
    "    marker = Marker(location=location, draggable=False, title=name, popup=popup)\n",
    "    m.add_child(marker)\n",
    "m"
   ]
  },
  {
   "cell_type": "markdown",
   "id": "b02bb3d2",
   "metadata": {},
   "source": [
    "### Linked Data and the USGS\n",
    "\n",
    "**As shown in the json below, the use of linked data enables interoperability and data exchange seamlessly between FEMA models and USGS observations.**"
   ]
  },
  {
   "cell_type": "code",
   "execution_count": null,
   "id": "3f62eb2c-467c-4a93-bf1a-950421917ae5",
   "metadata": {
    "tags": [
     "remove_input"
    ]
   },
   "outputs": [],
   "source": [
    "display(stylized_json(gage_ld_jsons))"
   ]
  },
  {
   "cell_type": "markdown",
   "id": "adb7c63c",
   "metadata": {},
   "source": [
    "# End"
   ]
  }
 ],
 "metadata": {
  "celltoolbar": "Tags",
  "kernelspec": {
   "display_name": "Python 3 (ipykernel)",
   "language": "python",
   "name": "python3"
  },
  "language_info": {
   "codemirror_mode": {
    "name": "ipython",
    "version": 3
   },
   "file_extension": ".py",
   "mimetype": "text/x-python",
   "name": "python",
   "nbconvert_exporter": "python",
   "pygments_lexer": "ipython3",
   "version": "3.10.10"
  }
 },
 "nbformat": 4,
 "nbformat_minor": 5
}
