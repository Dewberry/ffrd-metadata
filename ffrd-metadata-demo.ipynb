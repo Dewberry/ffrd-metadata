{
 "cells": [
  {
   "cell_type": "markdown",
   "id": "c1822c68-dd5d-47d1-9feb-5379dea14745",
   "metadata": {},
   "source": [
    "# Kanawha / FFRD Metadata Demo"
   ]
  },
  {
   "cell_type": "code",
   "execution_count": 162,
   "id": "00b5630e-846b-4168-a7b1-5df57ea8e6da",
   "metadata": {
    "tags": []
   },
   "outputs": [],
   "source": [
    "import rdflib"
   ]
  },
  {
   "cell_type": "code",
   "execution_count": 163,
   "id": "0f6177df-fd0b-4357-87c7-de525aabda38",
   "metadata": {
    "tags": []
   },
   "outputs": [
    {
     "data": {
      "text/plain": [
       "<Graph identifier=N768e00367e6244a79fc5d467918b0b9e (<class 'rdflib.graph.Graph'>)>"
      ]
     },
     "execution_count": 163,
     "metadata": {},
     "output_type": "execute_result"
    }
   ],
   "source": [
    "g = rdflib.Graph()\n",
    "g.parse(\"./kanawha.ttl\", format=\"turtle\")"
   ]
  },
  {
   "cell_type": "markdown",
   "id": "2bcfb51a-b9fd-4b0c-9d45-f26244ca31bd",
   "metadata": {},
   "source": [
    "## Query for models based a model creator name\n",
    "Find models created by a particlar person."
   ]
  },
  {
   "cell_type": "code",
   "execution_count": 164,
   "id": "cd887a76-cf69-4df5-b12b-17403c87868c",
   "metadata": {
    "tags": []
   },
   "outputs": [],
   "source": [
    "model_creator = \"Mark McBroom\""
   ]
  },
  {
   "cell_type": "code",
   "execution_count": 165,
   "id": "ecfe6fbf-ea56-49d1-a4b8-75f36ca7069b",
   "metadata": {
    "tags": []
   },
   "outputs": [],
   "source": [
    "query_creator = f\"\"\"\n",
    "PREFIX rascat: <http://www.example.org/rascat/0.1#>\n",
    "PREFIX dcterms: <http://purl.org/dc/terms/>\n",
    "SELECT DISTINCT ?title ?description ?model\n",
    "WHERE {{\n",
    "    ?model a rascat:RasModel .\n",
    "    ?model dcterms:title ?title .\n",
    "    ?model dcterms:description ?description .\n",
    "    ?model dcterms:creator ?creators .\n",
    "    ?model dcterms:creator [foaf:name \"{model_creator}\"] .\n",
    "}}\n",
    "\"\"\""
   ]
  },
  {
   "cell_type": "code",
   "execution_count": 166,
   "id": "def1c3f3-7284-44df-94e0-da2080b1dd2f",
   "metadata": {
    "tags": []
   },
   "outputs": [
    {
     "name": "stdout",
     "output_type": "stream",
     "text": [
      "GauleySummersville_BLE_FEMA http://example.ffrd.fema.gov/kanawha/models/GSummersville_B.prj\n",
      "GauleySummersville_BLE-C_FEMA http://example.ffrd.fema.gov/kanawha/models/GSummersville_C.prj\n",
      "GauleyLower_BLE-C_FEMA http://example.ffrd.fema.gov/kanawha/models/GauleyLower_BLE_FEM.prj\n"
     ]
    }
   ],
   "source": [
    "results = g.query(query_creator)\n",
    "for row in results:\n",
    "    title = row[0]\n",
    "    description = row[1]\n",
    "    model = row[2]\n",
    "    print(title, model)"
   ]
  },
  {
   "cell_type": "markdown",
   "id": "7c4ca82e-6d14-42f7-9d59-1b3a4a5e0308",
   "metadata": {},
   "source": [
    "## Query for models based on 2D mesh cell count\n",
    "Find models with more than X cells."
   ]
  },
  {
   "cell_type": "code",
   "execution_count": 167,
   "id": "9e4df143-41ab-46c8-b44d-a0a10e85a407",
   "metadata": {
    "tags": []
   },
   "outputs": [],
   "source": [
    "cell_count = 400000"
   ]
  },
  {
   "cell_type": "code",
   "execution_count": 168,
   "id": "cf8198e5-93ef-42d3-901d-4823ad889f7f",
   "metadata": {
    "tags": []
   },
   "outputs": [],
   "source": [
    "query_cell_count = f\"\"\"\n",
    "PREFIX rascat: <http://www.example.org/rascat/0.1#>\n",
    "PREFIX dcterms: <http://purl.org/dc/terms/>\n",
    "SELECT ?title ?description ?model ?geometry ?cellCount\n",
    "WHERE {{\n",
    "    ?model a rascat:RasModel .\n",
    "    ?model dcterms:title ?title .\n",
    "    ?model dcterms:description ?description .\n",
    "    ?model rascat:hasGeometry ?geometry .\n",
    "    ?geometry rascat:hasMesh2D ?mesh2D .\n",
    "    ?mesh2D rascat:cellCount ?cellCount .\n",
    "    FILTER (?cellCount > {cell_count})\n",
    "}}\n",
    "ORDER BY DESC(?cellCount)    \n",
    "\"\"\""
   ]
  },
  {
   "cell_type": "code",
   "execution_count": 169,
   "id": "e780dd70-ae7f-4eb1-bf1c-5ede15c4adb0",
   "metadata": {
    "tags": []
   },
   "outputs": [
    {
     "name": "stdout",
     "output_type": "stream",
     "text": [
      "GauleyLower_BLE-C_FEMA 1088388 http://example.ffrd.fema.gov/kanawha/models/GauleyLower_BLE_FEM.g01\n",
      "UpperNew_Upper 1064723 http://example.ffrd.fema.gov/kanawha/models/UpperNew_Upper.g01\n",
      "GauleySummersville_BLE-C_FEMA 954995 http://example.ffrd.fema.gov/kanawha/models/GSummersville_C.g01\n",
      "UpperNew_Lower 800701 http://example.ffrd.fema.gov/kanawha/models/UpperNew_Lower.g03\n",
      "ElkMiddle 761035 http://example.ffrd.fema.gov/kanawha/models/ElkMiddle.g01\n",
      "ElkMiddle 761035 http://example.ffrd.fema.gov/kanawha/models/ElkMiddle.g02\n",
      "GauleySummersville_BLE_FEMA 587360 http://example.ffrd.fema.gov/kanawha/models/GSummersville_B.g01\n",
      "Upper Kanawha 537254 http://example.ffrd.fema.gov/kanawha/models/UpperKanawha.g01\n",
      "New-Little River 517580 http://example.ffrd.fema.gov/kanawha/models/New-LittleRiver.g01\n",
      "Bluestone Local - Compass 2D BLE 417852 http://example.ffrd.fema.gov/kanawha/models/BluestoneLocal.g01\n",
      "Watershed G3 411065 http://example.ffrd.fema.gov/kanawha/models/WatershedG3.g01\n",
      "Watershed G3 411065 http://example.ffrd.fema.gov/kanawha/models/WatershedG3.g02\n",
      "Watershed G3 411065 http://example.ffrd.fema.gov/kanawha/models/WatershedG3.g03\n"
     ]
    }
   ],
   "source": [
    "results = g.query(query_cell_count)\n",
    "for row in results:\n",
    "    title = row[0]\n",
    "    description = row[1]\n",
    "    model = row[2]\n",
    "    geometry = row[3]\n",
    "    cell_count = row[4]\n",
    "    print(title, cell_count, geometry)"
   ]
  },
  {
   "cell_type": "markdown",
   "id": "1348d5fc-7643-449e-975d-69183bbd8d47",
   "metadata": {},
   "source": [
    "## Query based on calibration metrics\n",
    "Identify the top 10 Plan calibration hydrographs by according to the Nash-Sutcliffe Efficiency metric."
   ]
  },
  {
   "cell_type": "code",
   "execution_count": 170,
   "id": "a79002e8-bb46-44a5-a152-33e1edba496c",
   "metadata": {
    "tags": []
   },
   "outputs": [],
   "source": [
    "limit = 10"
   ]
  },
  {
   "cell_type": "code",
   "execution_count": 171,
   "id": "ecce5fe9-8b9d-4e60-bbd6-158147cef6fe",
   "metadata": {
    "tags": []
   },
   "outputs": [],
   "source": [
    "query_calibration = f\"\"\"\n",
    "PREFIX rascat: <http://www.example.org/rascat/0.1#>\n",
    "PREFIX dcterms: <http://purl.org/dc/terms/>\n",
    "PREFIX usgs_gages: <https://waterdata.usgs.gov/monitoring-location/>\n",
    "SELECT ?title ?description ?model ?flow ?gage ?nse ?flowTitle ?gageTitle ?hydroType ?plan ?planTitle\n",
    "WHERE {{\n",
    "    ?model a rascat:RasModel .\n",
    "    ?model dcterms:title ?title .\n",
    "    ?model dcterms:description ?description .\n",
    "    ?model rascat:hasPlan ?plan .\n",
    "    ?plan rascat:hasUnsteadyFlow ?flow .\n",
    "    ?plan rascat:hasCalibrationHydrograph ?hydro .\n",
    "    ?plan dcterms:title ?planTitle .\n",
    "    ?flow dcterms:title ?flowTitle .\n",
    "    ?hydro rascat:fromStreamgage ?gage .\n",
    "    ?hydro rascat:hydrographType ?hydroType .\n",
    "    ?gage dcterms:identifier ?gageID .\n",
    "    ?gage dcterms:title ?gageTitle .\n",
    "    ?hydro rascat:nse ?nse .\n",
    "    FILTER (?hydroType = \"Flow\")\n",
    "}}\n",
    "ORDER BY ASC(?nse)\n",
    "LIMIT {limit}\n",
    "\"\"\""
   ]
  },
  {
   "cell_type": "code",
   "execution_count": 172,
   "id": "541aa967-fda1-4187-ba6e-507878bd10ed",
   "metadata": {
    "tags": []
   },
   "outputs": [
    {
     "name": "stdout",
     "output_type": "stream",
     "text": [
      "UpperNew_Upper -7.27 Jun2016 http://example.ffrd.fema.gov/kanawha/models/UpperNew_Upper.p04 https://waterdata.usgs.gov/monitoring-location/03164000\n",
      "CoalRiver -1.97 Jan1996 http://example.ffrd.fema.gov/kanawha/models/CoalRiver.p03 https://waterdata.usgs.gov/monitoring-location/03198500\n",
      "WatershedG9 -1.5141 Jan-1995 Calibration http://example.ffrd.fema.gov/kanawha/models/WatershedG9.p05 https://waterdata.usgs.gov/monitoring-location/03184000\n",
      "UpperNew_Upper -1.22 Jun2016 http://example.ffrd.fema.gov/kanawha/models/UpperNew_Upper.p04 https://waterdata.usgs.gov/monitoring-location/03161000\n",
      "UpperNew_Lower -0.343 Jun2016 http://example.ffrd.fema.gov/kanawha/models/UpperNew_Lower.p07 https://waterdata.usgs.gov/monitoring-location/03168000\n",
      "UpperNew_Upper -0.34 Jan1996 http://example.ffrd.fema.gov/kanawha/models/UpperNew_Upper.p03 https://waterdata.usgs.gov/monitoring-location/03164000\n",
      "Kanawha_G1 -0.17704 Jan-1995 Calibration http://example.ffrd.fema.gov/kanawha/models/Kanawha_G1.p05 https://waterdata.usgs.gov/monitoring-location/03180500\n",
      "WatershedG9 -0.058891 Jan-1996 Calibration http://example.ffrd.fema.gov/kanawha/models/WatershedG9.p06 https://waterdata.usgs.gov/monitoring-location/03184000\n",
      "CoalRiver 0.04 Jan1995 http://example.ffrd.fema.gov/kanawha/models/CoalRiver.p02 https://waterdata.usgs.gov/monitoring-location/03198500\n",
      "CoalRiver 0.07 Jun2016 http://example.ffrd.fema.gov/kanawha/models/CoalRiver.p04 https://waterdata.usgs.gov/monitoring-location/03200500\n"
     ]
    }
   ],
   "source": [
    "results = g.query(query_calibration)\n",
    "for row in results:\n",
    "    title = row[0]\n",
    "    description = row[1]\n",
    "    model = row[2]\n",
    "    flow = row[3]\n",
    "    gage = row[4]\n",
    "    nse = row[5]\n",
    "    flow_title = row[6]\n",
    "    gage_title = row[7]\n",
    "    hydro_type = row[8]\n",
    "    plan = row[9]\n",
    "    plan_title = row[10]\n",
    "    print(title, nse, plan_title, plan, gage)"
   ]
  },
  {
   "cell_type": "markdown",
   "id": "4ae9851b-d7a8-4400-a70e-f61b449a6854",
   "metadata": {},
   "source": [
    "## List all surface roughness landuse/landcover sources"
   ]
  },
  {
   "cell_type": "code",
   "execution_count": 188,
   "id": "eaab81db-efcb-4419-955c-65dd12354a4e",
   "metadata": {
    "tags": []
   },
   "outputs": [],
   "source": [
    "query_lulc = \"\"\"\n",
    "PREFIX rascat: <http://www.example.org/rascat/0.1#>\n",
    "PREFIX dcterms: <http://purl.org/dc/terms/>\n",
    "PREFIX usgs_gages: <https://waterdata.usgs.gov/monitoring-location/>\n",
    "SELECT ?landuseDesc (GROUP_CONCAT(DISTINCT ?title; separator=\", \") as ?titles)\n",
    "WHERE {\n",
    "    ?model a rascat:RasModel .\n",
    "    ?model dcterms:title ?title .\n",
    "    ?model dcterms:description ?description .\n",
    "    ?model rascat:hasGeometry ?geom .\n",
    "    ?geom rascat:hasRoughness ?rough .\n",
    "    ?rough rascat:hasLanduseLandcover ?landuse .\n",
    "    ?landuse dcterms:description ?landuseDesc .\n",
    "}\n",
    "GROUP BY ?landuseDesc\n",
    "\"\"\""
   ]
  },
  {
   "cell_type": "code",
   "execution_count": 190,
   "id": "1d289e20-ffc5-4d5a-8f26-8e49e9f604b8",
   "metadata": {
    "tags": []
   },
   "outputs": [
    {
     "name": "stdout",
     "output_type": "stream",
     "text": [
      "Custom land cover analysis of NAIP 2022 imagery BasinG6, G5, Greenbrier_G7, Greenbrier_G8, Kanawha_G1, Kanawha_G2, Watershed G3, Watershed G4, WatershedG9\n",
      "National Land Cover Database 2019 (CONUS) Bluestone Local - Compass 2D BLE, Bluestone_Upper, CoalRiver, GauleySummersville_BLE_FEMA, New-Little River, Upper Kanawha, UpperNew_Lower, UpperNew_Upper\n",
      "Remote Sensing Data processed by WSP ElkMiddle\n",
      "National Agriculture Imagery Program (NAIP) imagery processed using machine learning tools. Pulled August 2022 GauleySummersville_BLE-C_FEMA, GauleyLower_BLE-C_FEMA\n"
     ]
    }
   ],
   "source": [
    "results = g.query(query_lulc)\n",
    "for row in results:\n",
    "    lulc_desc = row[0]\n",
    "    titles = row[1]\n",
    "    print(lulc_desc, titles)"
   ]
  },
  {
   "cell_type": "markdown",
   "id": "c0cf6802-1bdc-4ae6-a117-b70c70d3874b",
   "metadata": {},
   "source": [
    "## Identify any models that used a certain USGS gage for calibration"
   ]
  },
  {
   "cell_type": "code",
   "execution_count": 175,
   "id": "b577b2ad-043e-4b5f-ab11-d25d654bf830",
   "metadata": {
    "tags": []
   },
   "outputs": [],
   "source": [
    "gage = \"03187500\""
   ]
  },
  {
   "cell_type": "code",
   "execution_count": 176,
   "id": "a84f2d50-4ad9-43cf-bb0a-332830274213",
   "metadata": {
    "tags": []
   },
   "outputs": [],
   "source": [
    "query_gage = f\"\"\"\n",
    "PREFIX rascat: <http://www.example.org/rascat/0.1#>\n",
    "PREFIX dcterms: <http://purl.org/dc/terms/>\n",
    "PREFIX usgs_gages: <https://waterdata.usgs.gov/monitoring-location/>\n",
    "SELECT DISTINCT ?model ?gage ?gageID\n",
    "WHERE {{\n",
    "    ?model a rascat:RasModel .\n",
    "    ?model rascat:hasPlan ?plan .\n",
    "    ?plan rascat:hasCalibrationHydrograph ?hydro .\n",
    "    ?hydro rascat:fromStreamgage ?gage .\n",
    "    ?gage dcterms:identifier ?gageID .\n",
    "    FILTER (?gageID = \"{gage}\")\n",
    "}}\n",
    "\"\"\""
   ]
  },
  {
   "cell_type": "code",
   "execution_count": 177,
   "id": "e8422663-b7f1-40f2-ab51-11c1eb8a80f1",
   "metadata": {
    "tags": []
   },
   "outputs": [
    {
     "name": "stdout",
     "output_type": "stream",
     "text": [
      "http://example.ffrd.fema.gov/kanawha/models/GSummersville_B.prj\n",
      "http://example.ffrd.fema.gov/kanawha/models/GSummersville_C.prj\n"
     ]
    }
   ],
   "source": [
    "results = g.query(query_gage)\n",
    "for row in results:\n",
    "    model = row[0]\n",
    "    print(model)"
   ]
  },
  {
   "cell_type": "markdown",
   "id": "de9c9092-21c3-45d0-86b9-bbb9fbbdb9c6",
   "metadata": {},
   "source": [
    "## Map USGS gages associated with a model"
   ]
  },
  {
   "cell_type": "code",
   "execution_count": 178,
   "id": "cc4e5192-000e-4faa-819c-f523b2e95b7e",
   "metadata": {
    "tags": []
   },
   "outputs": [],
   "source": [
    "model = \"New-LittleRiver.prj\""
   ]
  },
  {
   "cell_type": "code",
   "execution_count": 179,
   "id": "9b148d91-cae2-4706-85f0-ca76a7080332",
   "metadata": {
    "tags": []
   },
   "outputs": [],
   "source": [
    "query_gages = f\"\"\"\n",
    "PREFIX rascat: <http://www.example.org/rascat/0.1#>\n",
    "PREFIX dcterms: <http://purl.org/dc/terms/>\n",
    "PREFIX usgs_gages: <https://waterdata.usgs.gov/monitoring-location/>\n",
    "PREFIX kanawha: <http://ffrd.fema.gov/models/kanawha/>\n",
    "SELECT DISTINCT ?model ?gage ?gageID\n",
    "WHERE {{\n",
    "    ?model a rascat:RasModel .\n",
    "    ?model rascat:hasPlan ?plan .\n",
    "    ?plan rascat:hasCalibrationHydrograph ?hydro .\n",
    "    ?hydro rascat:fromStreamgage ?gage .\n",
    "    ?gage dcterms:identifier ?gageID .\n",
    "    FILTER (?model = kanawha:{model})\n",
    "}}\n",
    "\"\"\""
   ]
  },
  {
   "cell_type": "code",
   "execution_count": 180,
   "id": "33055add-41d3-4ad4-8252-47af58d9b5bc",
   "metadata": {
    "tags": []
   },
   "outputs": [],
   "source": [
    "results = g.query(query_gages)\n",
    "gage_urls = []\n",
    "for row in results:\n",
    "    gage = row[1]\n",
    "    gage_urls.append(gage)\n",
    "    gageID = row[2]\n",
    "    print(gage, gageID)"
   ]
  },
  {
   "cell_type": "code",
   "execution_count": 181,
   "id": "b748bbbf-63d7-4e2b-a29d-81199737e366",
   "metadata": {
    "tags": []
   },
   "outputs": [
    {
     "data": {
      "text/plain": [
       "[]"
      ]
     },
     "execution_count": 181,
     "metadata": {},
     "output_type": "execute_result"
    }
   ],
   "source": [
    "gage_urls"
   ]
  },
  {
   "cell_type": "code",
   "execution_count": 182,
   "id": "c7b8e149-4068-4e7e-a4ab-5b811dc41d33",
   "metadata": {
    "tags": []
   },
   "outputs": [],
   "source": [
    "import json\n",
    "\n",
    "import requests\n",
    "from bs4 import BeautifulSoup\n",
    "\n",
    "def get_ld_json(url: str) -> dict:\n",
    "    parser = \"html.parser\"\n",
    "    req = requests.get(url)\n",
    "    soup = BeautifulSoup(req.text, parser)\n",
    "    return json.loads(\"\".join(soup.find(\"script\", {\"type\":\"application/ld+json\"}).contents))"
   ]
  },
  {
   "cell_type": "code",
   "execution_count": 183,
   "id": "0ca3d209-e87d-4b2f-abc8-7da8f7e5cf94",
   "metadata": {
    "tags": []
   },
   "outputs": [],
   "source": [
    "gage_ld_jsons = []\n",
    "for gage_url in gage_urls:\n",
    "    gage_ld_jsons.append(get_ld_json(gage_url))"
   ]
  },
  {
   "cell_type": "code",
   "execution_count": 184,
   "id": "3f62eb2c-467c-4a93-bf1a-950421917ae5",
   "metadata": {
    "tags": []
   },
   "outputs": [
    {
     "name": "stdout",
     "output_type": "stream",
     "text": [
      "[]\n"
     ]
    }
   ],
   "source": [
    "print(gage_ld_jsons)"
   ]
  },
  {
   "cell_type": "code",
   "execution_count": 185,
   "id": "b247f79a-b9b2-434e-8646-689a654e46fe",
   "metadata": {
    "tags": []
   },
   "outputs": [
    {
     "ename": "StatisticsError",
     "evalue": "mean requires at least one data point",
     "output_type": "error",
     "traceback": [
      "\u001b[1;31m---------------------------------------------------------------------------\u001b[0m",
      "\u001b[1;31mStatisticsError\u001b[0m                           Traceback (most recent call last)",
      "Cell \u001b[1;32mIn[185], line 5\u001b[0m\n\u001b[0;32m      2\u001b[0m \u001b[38;5;28;01mfrom\u001b[39;00m \u001b[38;5;21;01mipywidgets\u001b[39;00m \u001b[38;5;28;01mimport\u001b[39;00m HTML\n\u001b[0;32m      3\u001b[0m \u001b[38;5;28;01mimport\u001b[39;00m \u001b[38;5;21;01mstatistics\u001b[39;00m\n\u001b[1;32m----> 5\u001b[0m center_lat \u001b[38;5;241m=\u001b[39m \u001b[43mstatistics\u001b[49m\u001b[38;5;241;43m.\u001b[39;49m\u001b[43mmean\u001b[49m\u001b[43m(\u001b[49m\u001b[43m[\u001b[49m\u001b[38;5;28;43mfloat\u001b[39;49m\u001b[43m(\u001b[49m\u001b[43mi\u001b[49m\u001b[43m[\u001b[49m\u001b[38;5;124;43m'\u001b[39;49m\u001b[38;5;124;43mgeo\u001b[39;49m\u001b[38;5;124;43m'\u001b[39;49m\u001b[43m]\u001b[49m\u001b[43m[\u001b[49m\u001b[38;5;124;43m'\u001b[39;49m\u001b[38;5;124;43mlatitude\u001b[39;49m\u001b[38;5;124;43m'\u001b[39;49m\u001b[43m]\u001b[49m\u001b[43m)\u001b[49m\u001b[43m \u001b[49m\u001b[38;5;28;43;01mfor\u001b[39;49;00m\u001b[43m \u001b[49m\u001b[43mi\u001b[49m\u001b[43m \u001b[49m\u001b[38;5;129;43;01min\u001b[39;49;00m\u001b[43m \u001b[49m\u001b[43mgage_ld_jsons\u001b[49m\u001b[43m]\u001b[49m\u001b[43m)\u001b[49m\n\u001b[0;32m      6\u001b[0m center_lng \u001b[38;5;241m=\u001b[39m statistics\u001b[38;5;241m.\u001b[39mmean([\u001b[38;5;28mfloat\u001b[39m(i[\u001b[38;5;124m'\u001b[39m\u001b[38;5;124mgeo\u001b[39m\u001b[38;5;124m'\u001b[39m][\u001b[38;5;124m'\u001b[39m\u001b[38;5;124mlongitude\u001b[39m\u001b[38;5;124m'\u001b[39m]) \u001b[38;5;28;01mfor\u001b[39;00m i \u001b[38;5;129;01min\u001b[39;00m gage_ld_jsons])\n\u001b[0;32m      8\u001b[0m center \u001b[38;5;241m=\u001b[39m (center_lat, center_lng)\n",
      "File \u001b[1;32m~\\.pyenv\\pyenv-win\\versions\\3.10.10\\lib\\statistics.py:328\u001b[0m, in \u001b[0;36mmean\u001b[1;34m(data)\u001b[0m\n\u001b[0;32m    326\u001b[0m n \u001b[38;5;241m=\u001b[39m \u001b[38;5;28mlen\u001b[39m(data)\n\u001b[0;32m    327\u001b[0m \u001b[38;5;28;01mif\u001b[39;00m n \u001b[38;5;241m<\u001b[39m \u001b[38;5;241m1\u001b[39m:\n\u001b[1;32m--> 328\u001b[0m     \u001b[38;5;28;01mraise\u001b[39;00m StatisticsError(\u001b[38;5;124m'\u001b[39m\u001b[38;5;124mmean requires at least one data point\u001b[39m\u001b[38;5;124m'\u001b[39m)\n\u001b[0;32m    329\u001b[0m T, total, count \u001b[38;5;241m=\u001b[39m _sum(data)\n\u001b[0;32m    330\u001b[0m \u001b[38;5;28;01massert\u001b[39;00m count \u001b[38;5;241m==\u001b[39m n\n",
      "\u001b[1;31mStatisticsError\u001b[0m: mean requires at least one data point"
     ]
    }
   ],
   "source": [
    "from ipyleaflet import Map, Marker\n",
    "from ipywidgets import HTML\n",
    "import statistics\n",
    "\n",
    "center_lat = statistics.mean([float(i['geo']['latitude']) for i in gage_ld_jsons])\n",
    "center_lng = statistics.mean([float(i['geo']['longitude']) for i in gage_ld_jsons])\n",
    "\n",
    "center = (center_lat, center_lng)\n",
    "\n",
    "m = Map(center=center, zoom=9)\n",
    "\n",
    "for j in gage_ld_jsons:\n",
    "    location = (float(j['geo']['latitude']), float(j['geo']['longitude']))\n",
    "    name = j['name']\n",
    "    description = j['description']\n",
    "    gage_url = j['@id']\n",
    "    gage_popup = HTML()\n",
    "    gage_popup.value = f\"<h3>{name}</h3><p>Used to calibrate <b>{model}</b></p><p>{description}</p><p><a target=\\\"_blank\\\" rel=\\\"noopener noreferrer\\\" href=\\\"{gage_url}\\\">{gage_url}</a></p>\"\n",
    "    marker = Marker(location=location, draggable=False, title=name)\n",
    "    marker.popup = gage_popup\n",
    "    m.add_layer(marker)\n",
    "m"
   ]
  },
  {
   "cell_type": "code",
   "execution_count": null,
   "id": "7bbaa593-4a8b-422e-bc85-22bc5022ae4c",
   "metadata": {},
   "outputs": [],
   "source": []
  }
 ],
 "metadata": {
  "kernelspec": {
   "display_name": "Python 3 (ipykernel)",
   "language": "python",
   "name": "python3"
  },
  "language_info": {
   "codemirror_mode": {
    "name": "ipython",
    "version": 3
   },
   "file_extension": ".py",
   "mimetype": "text/x-python",
   "name": "python",
   "nbconvert_exporter": "python",
   "pygments_lexer": "ipython3",
   "version": "3.10.10"
  }
 },
 "nbformat": 4,
 "nbformat_minor": 5
}
